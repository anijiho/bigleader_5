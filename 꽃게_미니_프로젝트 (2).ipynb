{
  "nbformat": 4,
  "nbformat_minor": 0,
  "metadata": {
    "colab": {
      "private_outputs": true,
      "provenance": []
    },
    "kernelspec": {
      "name": "python3",
      "display_name": "Python 3"
    },
    "language_info": {
      "name": "python"
    }
  },
  "cells": [
    {
      "cell_type": "code",
      "execution_count": null,
      "metadata": {
        "id": "IQ47GJcXh5jO"
      },
      "outputs": [],
      "source": [
        "import pandas as pd\n",
        "import seaborn as sns"
      ]
    },
    {
      "cell_type": "code",
      "source": [
        "df = pd.read_csv('/content/drive/MyDrive/빅리더/꽃게 미니 프로젝트/train.csv')"
      ],
      "metadata": {
        "id": "-awXRFm-iLuu"
      },
      "execution_count": null,
      "outputs": []
    },
    {
      "cell_type": "code",
      "source": [
        "df.corr() # 전체 모든 원소들과 연관성이 있다?? 말이 되나???????????????"
      ],
      "metadata": {
        "id": "RpWJUF-5iRX4"
      },
      "execution_count": null,
      "outputs": []
    },
    {
      "cell_type": "markdown",
      "source": [
        "# 게는 나이를 먹을 수록 무게가 높아지기 마련이다. 상관관계를 보았을 때 이 3가지를 제외한 나머지는 필요가 없다.\n",
        "- 무게 나이 성별\n",
        "- 나이대 별 무게 전체 평균 ,남자 평균, 여자 평균\n"
      ],
      "metadata": {
        "id": "dEl-QWvnl8bg"
      }
    },
    {
      "cell_type": "markdown",
      "source": [
        "#팀 의견\n",
        "- 나머지 변수를 날리자는 의견에 있어 널값을 채운이후 달라질 수 있다는 점을 고려\n",
        "- 변수를 놔두기로 함"
      ],
      "metadata": {
        "id": "EbAGkSRQmm4q"
      }
    },
    {
      "cell_type": "code",
      "source": [
        "df.describe()"
      ],
      "metadata": {
        "id": "I98CQxcOiSz9"
      },
      "execution_count": null,
      "outputs": []
    },
    {
      "cell_type": "code",
      "source": [
        "df['Age'].value_counts()"
      ],
      "metadata": {
        "id": "rZRCMh_22qYZ"
      },
      "execution_count": null,
      "outputs": []
    },
    {
      "cell_type": "code",
      "source": [
        "import pandas as pd\n",
        "import matplotlib.pyplot as plt\n",
        "\n",
        "# Assuming you have a DataFrame called 'df' and 'column_name' is the name of the numeric column\n",
        "value_counts = df['Age'].value_counts()\n",
        "\n",
        "# Plotting the bar glyph\n",
        "value_counts.plot.bar()\n",
        "\n",
        "# Adding labels and title\n",
        "plt.xlabel('Data')\n",
        "plt.ylabel('Count')\n",
        "plt.title('Count of Each Data Value')\n",
        "\n",
        "# Displaying the plot\n",
        "plt.show()"
      ],
      "metadata": {
        "id": "bmqUSkzi7xW_"
      },
      "execution_count": null,
      "outputs": []
    },
    {
      "cell_type": "code",
      "source": [
        "result = df.groupby(pd.cut(df['Age'], bins=4)).mean()['Weight']"
      ],
      "metadata": {
        "id": "N-7C9pnXKZ-c"
      },
      "execution_count": null,
      "outputs": []
    },
    {
      "cell_type": "code",
      "source": [
        "print(result)"
      ],
      "metadata": {
        "id": "k3qODNeNF3YU"
      },
      "execution_count": null,
      "outputs": []
    },
    {
      "cell_type": "markdown",
      "source": [
        "#나이와 무게의 평균의 범위를 나눠 시각화"
      ],
      "metadata": {
        "id": "4ZIsxU4_L0yk"
      }
    },
    {
      "cell_type": "code",
      "source": [
        "result_age_weight = df.groupby(pd.cut(df['Age'], bins=4)).mean()['Weight']\n",
        "# Plotting the bar graph\n",
        "result.plot.bar()\n",
        "\n",
        "# Adding labels and title\n",
        "plt.xlabel('Age')\n",
        "plt.ylabel('Weight')\n",
        "plt.title('Average of Other Data by Data Range')\n",
        "\n",
        "# Displaying the plot\n",
        "plt.show()"
      ],
      "metadata": {
        "id": "tnkcTd84LotT"
      },
      "execution_count": null,
      "outputs": []
    },
    {
      "cell_type": "markdown",
      "source": [
        "#무게와 성별"
      ],
      "metadata": {
        "id": "ykA0UD_pRip5"
      }
    },
    {
      "cell_type": "code",
      "source": [
        "df['Sex'].value_counts()"
      ],
      "metadata": {
        "id": "hxEW39qpOIVJ"
      },
      "execution_count": null,
      "outputs": []
    },
    {
      "cell_type": "code",
      "source": [
        "grouped_data = df.groupby(['Age', 'Sex']).size().reset_index(name='Count')"
      ],
      "metadata": {
        "id": "XrxbL3H3RzBp"
      },
      "execution_count": null,
      "outputs": []
    },
    {
      "cell_type": "code",
      "source": [
        "pivoted_data = grouped_data.pivot(index='Age', columns='Sex', values='Count')"
      ],
      "metadata": {
        "id": "bwZgYQOV7Pzb"
      },
      "execution_count": null,
      "outputs": []
    },
    {
      "cell_type": "code",
      "source": [
        "print(pivoted_data)"
      ],
      "metadata": {
        "id": "AToL3-Q_7W07"
      },
      "execution_count": null,
      "outputs": []
    },
    {
      "cell_type": "code",
      "source": [
        "pivoted_data.plot.bar()\n",
        "plt.show()"
      ],
      "metadata": {
        "id": "BnRxqYEo7X1J"
      },
      "execution_count": null,
      "outputs": []
    },
    {
      "cell_type": "markdown",
      "source": [
        "# 3\n",
        "- 나이대별로 남 여 무게의 평균을 구한다.\n",
        "- 이후 I의 값들 이 남 여 무게의 평균과 비교한다.\n",
        "- 이후 더 가까운 값들을 기준으로 M과 F 채워 넣는다."
      ],
      "metadata": {
        "id": "0vPRTttGA3-u"
      }
    },
    {
      "cell_type": "code",
      "source": [
        "result_age_weight = df.groupby(pd.cut(df['Age'], bins=4)).mean()['Weight']"
      ],
      "metadata": {
        "id": "ioFNhiWl9Cdh"
      },
      "execution_count": null,
      "outputs": []
    },
    {
      "cell_type": "code",
      "source": [
        "male_data = df[df['Sex'] == 'M']\n",
        "\n",
        "# Calculate average weight of males\n",
        "average_weight_male = male_data['Weight'].mean()"
      ],
      "metadata": {
        "id": "T9tPFF-cA2i5"
      },
      "execution_count": null,
      "outputs": []
    },
    {
      "cell_type": "code",
      "source": [
        "average_weight_male"
      ],
      "metadata": {
        "id": "eTIywJeCDTpS"
      },
      "execution_count": null,
      "outputs": []
    },
    {
      "cell_type": "markdown",
      "source": [
        "# 나이대별 남자 무게 평균"
      ],
      "metadata": {
        "id": "fUXHjsniLLTH"
      }
    },
    {
      "cell_type": "code",
      "source": [
        "male_data = df[df['Sex'] == 'M'].groupby(pd.cut(df['Age'], bins=7,precision = 0)).mean()['Weight']"
      ],
      "metadata": {
        "id": "91g3TnrMDVgG"
      },
      "execution_count": null,
      "outputs": []
    },
    {
      "cell_type": "code",
      "source": [
        "male_data.plot.bar()\n",
        "\n",
        "# Adding labels and title\n",
        "plt.xlabel('Age')\n",
        "plt.ylabel('Weight')\n",
        "plt.title('Average of Other Data by Data Range')\n",
        "\n",
        "# Displaying the plot\n",
        "plt.show()"
      ],
      "metadata": {
        "id": "0frWsmg9KGLy"
      },
      "execution_count": null,
      "outputs": []
    },
    {
      "cell_type": "markdown",
      "source": [
        "# 나이대별 여자 무게 평균"
      ],
      "metadata": {
        "id": "bzfffXD7LPDO"
      }
    },
    {
      "cell_type": "code",
      "source": [
        "girl_data = df[df['Sex'] == 'F'].groupby(pd.cut(df['Age'], bins=7,precision = 0)).mean()['Weight']"
      ],
      "metadata": {
        "id": "eFrXlG2GK7BG"
      },
      "execution_count": null,
      "outputs": []
    },
    {
      "cell_type": "code",
      "source": [
        "girl_data.plot.bar()\n",
        "\n",
        "# Adding labels and title\n",
        "plt.xlabel('Age')\n",
        "plt.ylabel('Weight')\n",
        "plt.title('Average of Other Data by Data Range')\n",
        "\n",
        "# Displaying the plot\n",
        "plt.show()"
      ],
      "metadata": {
        "id": "xROYQ6w3LY94"
      },
      "execution_count": null,
      "outputs": []
    },
    {
      "cell_type": "code",
      "source": [
        "print(male_data)"
      ],
      "metadata": {
        "id": "4YGAjNybM-_Q"
      },
      "execution_count": null,
      "outputs": []
    },
    {
      "cell_type": "code",
      "source": [
        "print(girl_data)"
      ],
      "metadata": {
        "id": "gNxO2n7_Lb4p"
      },
      "execution_count": null,
      "outputs": []
    },
    {
      "cell_type": "markdown",
      "source": [
        "# 나이대별 남여의 몸무게 평균과 I값의 무게를 비교해서 널값 채우기"
      ],
      "metadata": {
        "id": "dIbG6faaBpqG"
      }
    },
    {
      "cell_type": "code",
      "source": [
        "import numpy as np\n",
        "\n",
        "# Calculate average weight for men and women by age group\n",
        "# Find indices with null gender values ('I')\n",
        "null_data = df[df['Sex'] == 'I'].groupby(pd.cut(df['Age'], bins=7,precision = 0))['Weight']\n",
        "\n",
        "# Return the sentence as an index\n",
        "null_indices = null_data.groups.keys()\n",
        "\n",
        "# 인덱스\n",
        "for index in null_indices:\n",
        "    age_group = df.loc[index, 'Age'] # 나이 인덱스\n",
        "    weight = df.loc[index, 'Weight'] # 무게 인덱스\n",
        "    avg_weight_men = male_data.loc[age_group, 'M']\n",
        "    avg_weight_women = girl_data.loc[age_group, 'F']\n",
        "\n",
        "    # Compare weight with average weights and set gender accordingly\n",
        "    if np.abs(weight - avg_weight_men) < np.abs(weight - avg_weight_women):\n",
        "        df.loc[index, 'Sex'] = 'M'\n",
        "    else:\n",
        "        df.loc[index, 'Sex'] = 'F'"
      ],
      "metadata": {
        "id": "40Uzf_sBA-7O"
      },
      "execution_count": null,
      "outputs": []
    },
    {
      "cell_type": "code",
      "source": [
        "import numpy as np\n",
        "\n",
        "# Calculate average weight for men and women by age group\n",
        "# Make sure to assign the average weights to male_data and girl_data\n",
        "\n",
        "# Find indices with null gender values ('I')\n",
        "null_data = df[df['Sex'] == 'I'].groupby(pd.cut(df['Age'], bins=7, precision=0))['Weight']\n",
        "\n",
        "# Return the sentence as an index\n",
        "null_indices = null_data.groups.keys()\n",
        "\n",
        "# Iterate over null indices and fill gender based on weight comparison\n",
        "for index in null_indices:  # Get the weight from the index\n",
        "    avg_weight_men = male_data.loc[age_group, 'M']\n",
        "    avg_weight_women = girl_data.loc[age_group, 'F']\n",
        "\n",
        "    # Compare weight with average weights and set gender accordingly\n",
        "    if np.abs(weight - avg_weight_men) < np.abs(weight - avg_weight_women):\n",
        "        df.loc[index, 'Sex'] = 'M'\n",
        "    else:\n",
        "        df.loc[index, 'Sex'] = 'F'"
      ],
      "metadata": {
        "id": "X7xCCoPQrd0-"
      },
      "execution_count": null,
      "outputs": []
    },
    {
      "cell_type": "code",
      "source": [
        "df['Sex'].value_counts()"
      ],
      "metadata": {
        "id": "aS9IAOodFiO-"
      },
      "execution_count": null,
      "outputs": []
    },
    {
      "cell_type": "code",
      "source": [
        "print(null_indices)"
      ],
      "metadata": {
        "id": "_7ZzSoP9GJaK"
      },
      "execution_count": null,
      "outputs": []
    },
    {
      "cell_type": "code",
      "source": [],
      "metadata": {
        "id": "zqqBsHoEt2AJ"
      },
      "execution_count": null,
      "outputs": []
    }
  ]
}