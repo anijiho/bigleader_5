{
  "nbformat": 4,
  "nbformat_minor": 0,
  "metadata": {
    "colab": {
      "private_outputs": true,
      "provenance": []
    },
    "kernelspec": {
      "name": "python3",
      "display_name": "Python 3"
    },
    "language_info": {
      "name": "python"
    }
  },
  "cells": [
    {
      "cell_type": "code",
      "execution_count": null,
      "metadata": {
        "id": "y1V4DkN3g1fO"
      },
      "outputs": [],
      "source": [
        "!pip install pandas"
      ]
    },
    {
      "cell_type": "code",
      "source": [
        "import pandas as pd\n",
        "import seaborn as sns\n",
        "import matplotlib.pyplot as plt"
      ],
      "metadata": {
        "id": "cBn5XRVchSGR"
      },
      "execution_count": null,
      "outputs": []
    },
    {
      "cell_type": "code",
      "source": [
        "df = pd.read_csv('/content/drive/MyDrive/따릉이 미니 프로젝트/train_따릉이.csv')"
      ],
      "metadata": {
        "id": "5vm1AlMQhght"
      },
      "execution_count": null,
      "outputs": []
    },
    {
      "cell_type": "code",
      "source": [
        "t_df = pd.read_csv('/content/drive/MyDrive/따릉이 미니 프로젝트/test_따릉이.csv')"
      ],
      "metadata": {
        "id": "Dr6g6Rnwwyzq"
      },
      "execution_count": null,
      "outputs": []
    },
    {
      "cell_type": "markdown",
      "source": [
        "# 범주형 변수가 없음을 확인"
      ],
      "metadata": {
        "id": "mK7fHzfLjokL"
      }
    },
    {
      "cell_type": "code",
      "source": [
        "df.columns = ['id', 'hour', 'temperature','precipitation','windspeed','humidity','visivility','ozone','pm10','pm2.5','count']"
      ],
      "metadata": {
        "id": "XPPI48AthnZn"
      },
      "execution_count": null,
      "outputs": []
    },
    {
      "cell_type": "code",
      "source": [
        "t_df.columns = ['id', 'hour', 'temperature','precipitation','windspeed','humidity','visivility','ozone','pm10','pm2.5']"
      ],
      "metadata": {
        "id": "zcflUGNBxIOf"
      },
      "execution_count": null,
      "outputs": []
    },
    {
      "cell_type": "code",
      "source": [
        "df.corr()"
      ],
      "metadata": {
        "id": "kuPaqxCMikDG"
      },
      "execution_count": null,
      "outputs": []
    },
    {
      "cell_type": "code",
      "source": [
        "df.isnull().sum() # pm 10 2.5 , ozone의 결측값을 채워줘야 겠다."
      ],
      "metadata": {
        "id": "G9YxFaN_ilse"
      },
      "execution_count": null,
      "outputs": []
    },
    {
      "cell_type": "code",
      "source": [
        "df.corr() # 시간 온도 바람속도 ozone 순으로 상관관계 count와의 상관관계가 있다."
      ],
      "metadata": {
        "id": "AKLa1-EtipbO"
      },
      "execution_count": null,
      "outputs": []
    },
    {
      "cell_type": "markdown",
      "source": [
        "# 상관관계 히트맵"
      ],
      "metadata": {
        "id": "2Qtk9i8y1wkN"
      }
    },
    {
      "cell_type": "code",
      "source": [
        "corr_matrix = df.corr()\n",
        "plt.figure(figsize=(10,10))\n",
        "sns.heatmap(corr_matrix, annot=True, cmap='coolwarm')\n",
        "plt.title('Correlation Heatmap')\n",
        "plt.show()"
      ],
      "metadata": {
        "id": "MBu2LnwzxtEP"
      },
      "execution_count": null,
      "outputs": []
    },
    {
      "cell_type": "markdown",
      "source": [
        "# 전체 널값에 중앙값을 채워넣어보기"
      ],
      "metadata": {
        "id": "qQtBrkcG-L62"
      }
    },
    {
      "cell_type": "code",
      "source": [
        "df3 = pd.read_csv('/content/drive/MyDrive/따릉이 미니 프로젝트/train_따릉이.csv')\n",
        "\n",
        "# Calculate the median for each column\n",
        "medians = df3.median()\n",
        "\n",
        "# Fill missing values with medians\n",
        "df3 = df3.fillna(medians)"
      ],
      "metadata": {
        "id": "i2Z9-2NNv2fY"
      },
      "execution_count": null,
      "outputs": []
    },
    {
      "cell_type": "code",
      "source": [
        "df3.isnull().sum()"
      ],
      "metadata": {
        "id": "OHGsphqu-WxL"
      },
      "execution_count": null,
      "outputs": []
    },
    {
      "cell_type": "code",
      "source": [
        "df3.corr()"
      ],
      "metadata": {
        "id": "_QPa4SfC-Yzu"
      },
      "execution_count": null,
      "outputs": []
    },
    {
      "cell_type": "code",
      "source": [
        "df3.columns = ['id', 'hour', 'temperarture','precipitation','windspeed','humidity','bisivility','ozone','pm10','pm2.5','count']"
      ],
      "metadata": {
        "id": "4eD0bKaJ_YQB"
      },
      "execution_count": null,
      "outputs": []
    },
    {
      "cell_type": "code",
      "source": [
        "corr_matrix = df3.corr()\n",
        "plt.figure(figsize=(10,10))\n",
        "sns.heatmap(corr_matrix, annot=True, cmap='coolwarm')\n",
        "plt.title('Correlation Heatmap')\n",
        "plt.show()"
      ],
      "metadata": {
        "id": "da0FvG7Q-1Kt"
      },
      "execution_count": null,
      "outputs": []
    },
    {
      "cell_type": "markdown",
      "source": [
        "# 모든 결측치를 중앙값으로 채웠을 경우\n",
        "- 전반적으로 상관관계가 떨어지는 모습을 볼 수 있음\n",
        "- 때문에 모든 데이터 특성들에 중앙값을 채우는 것은 의미가 없다."
      ],
      "metadata": {
        "id": "2ZPEbhkg_oCO"
      }
    },
    {
      "cell_type": "code",
      "source": [
        "df3[['ozone', 'temperarture']].groupby(['ozone'], as_index=False).mean().sort_values(by='temperarture')\n"
      ],
      "metadata": {
        "id": "TrLIPhA0_Tb6"
      },
      "execution_count": null,
      "outputs": []
    },
    {
      "cell_type": "markdown",
      "source": [
        "# 중앙값을 채운 데이터로 표준화"
      ],
      "metadata": {
        "id": "wKXPZ2pQHYhN"
      }
    },
    {
      "cell_type": "code",
      "source": [
        "import pandas as pd\n",
        "from sklearn.preprocessing import StandardScaler"
      ],
      "metadata": {
        "id": "DhWvd3bjF4h_"
      },
      "execution_count": null,
      "outputs": []
    },
    {
      "cell_type": "code",
      "source": [
        "scaler = StandardScaler()\n",
        "\n",
        "# Standardize the numerical features\n",
        "data_standardized = scaler.fit_transform(df3)\n",
        "\n",
        "# Create a new DataFrame with standardized data\n",
        "data_standardized = pd.DataFrame(data_standardized, columns=df3.columns)\n",
        "\n",
        "# Print the standardized data\n",
        "print(data_standardized)"
      ],
      "metadata": {
        "id": "7y95xnEtKmDM"
      },
      "execution_count": null,
      "outputs": []
    },
    {
      "cell_type": "code",
      "source": [
        "data_standardized.columns = ['id', 'hour', 'temperarture','precipitation','windspeed','humidity','bisivility','ozone','pm10','pm2.5','count']"
      ],
      "metadata": {
        "id": "O0QEnjFrscc7"
      },
      "execution_count": null,
      "outputs": []
    },
    {
      "cell_type": "code",
      "source": [
        "df3."
      ],
      "metadata": {
        "id": "4zB-WjrOKuM0"
      },
      "execution_count": null,
      "outputs": []
    },
    {
      "cell_type": "code",
      "source": [
        "df3.corr()"
      ],
      "metadata": {
        "id": "v39V1JatKw9z"
      },
      "execution_count": null,
      "outputs": []
    },
    {
      "cell_type": "code",
      "source": [
        "df3.drop('id', axis=1)"
      ],
      "metadata": {
        "id": "qAvcydNEKyoW"
      },
      "execution_count": null,
      "outputs": []
    },
    {
      "cell_type": "code",
      "source": [
        "data_standardized.drop('id',axis=1)"
      ],
      "metadata": {
        "id": "IvKzOVkXLUQo"
      },
      "execution_count": null,
      "outputs": []
    },
    {
      "cell_type": "code",
      "source": [
        "data_standardized.info()"
      ],
      "metadata": {
        "id": "6BngB_Y2LlQq"
      },
      "execution_count": null,
      "outputs": []
    },
    {
      "cell_type": "code",
      "source": [
        "data_standardized.corr()"
      ],
      "metadata": {
        "id": "jkK_PePdLm83"
      },
      "execution_count": null,
      "outputs": []
    },
    {
      "cell_type": "code",
      "source": [
        "print(data_standardized)"
      ],
      "metadata": {
        "id": "YL8f2wVJrtpJ"
      },
      "execution_count": null,
      "outputs": []
    },
    {
      "cell_type": "code",
      "source": [
        "corr_matrix = data_standardized.corr()\n",
        "plt.figure(figsize=(10,10))\n",
        "sns.heatmap(corr_matrix, annot=True, cmap='coolwarm')\n",
        "plt.title('Correlation Heatmap')\n",
        "plt.show()"
      ],
      "metadata": {
        "id": "jWxseExpLqt9"
      },
      "execution_count": null,
      "outputs": []
    },
    {
      "cell_type": "markdown",
      "source": [
        "# 각 컬럼 별로 중앙값 넣기"
      ],
      "metadata": {
        "id": "b7kZO_-lv-MA"
      }
    },
    {
      "cell_type": "code",
      "source": [
        "df4 = pd.read_csv('/content/drive/MyDrive/따릉이 미니 프로젝트/train_따릉이.csv')"
      ],
      "metadata": {
        "id": "Vn12Rr8EwN3S"
      },
      "execution_count": null,
      "outputs": []
    },
    {
      "cell_type": "code",
      "source": [
        "df4.columns = ['id', 'hour', 'temperature','precipitation','windspeed','humidity','visivility','ozone','pm10','pm2.5','count']"
      ],
      "metadata": {
        "id": "dKqLrfWVMV-y"
      },
      "execution_count": null,
      "outputs": []
    },
    {
      "cell_type": "code",
      "source": [
        "df4['hour'] = df4['hour'].fillna(df4['hour'].median())\n",
        "df4['temperature'] = df4['temperature'].fillna(df4['temperature'].median())\n",
        "df4['precipitation'] = df4['precipitation'].fillna(df4['precipitation'].median())\n",
        "df4['windspeed'] = df4['windspeed'].fillna(df4['windspeed'].median())\n",
        "df4['humidity'] = df4['humidity'].fillna(df4['humidity'].median())\n",
        "df4['visivility'] = df4['visivility'].fillna(df4['visivility'].median())\n",
        "df4['ozone'] = df4['ozone'].fillna(df4['ozone'].median())\n",
        "df4['pm10'] = df4['pm10'].fillna(df4['pm10'].mean()) # 중앙값,평균값,최빈값등 모든 값을 계산해본 결과 평균값의 상관관계 계수가 제일 높았다.\n",
        "df4['pm2.5'] = df4['pm2.5'].fillna(df4['pm2.5'].median())"
      ],
      "metadata": {
        "id": "PCeLH4_FwNKh"
      },
      "execution_count": null,
      "outputs": []
    },
    {
      "cell_type": "code",
      "source": [
        "df4.corr()"
      ],
      "metadata": {
        "id": "f2u5McPzxbin"
      },
      "execution_count": null,
      "outputs": []
    },
    {
      "cell_type": "code",
      "source": [
        "scaler = StandardScaler()\n",
        "\n",
        "# Standardize the numerical features\n",
        "data_stand4 = scaler.fit_transform(df4)\n",
        "\n",
        "# Create a new DataFrame with standardized data\n",
        "data_stand4 = pd.DataFrame(data_stand4, columns=df4.columns)\n",
        "\n",
        "# Print the standardized data\n",
        "print(data_stand4)"
      ],
      "metadata": {
        "id": "hj944WdLxejf"
      },
      "execution_count": null,
      "outputs": []
    },
    {
      "cell_type": "code",
      "source": [
        "data_stand4.drop('id', axis=1)"
      ],
      "metadata": {
        "id": "hG2xm09D0_Kl"
      },
      "execution_count": null,
      "outputs": []
    },
    {
      "cell_type": "code",
      "source": [
        "data_stand4.corr()"
      ],
      "metadata": {
        "id": "lNww-W_u1VeV"
      },
      "execution_count": null,
      "outputs": []
    },
    {
      "cell_type": "code",
      "source": [
        "corr_matrix = data_stand4.corr()\n",
        "plt.figure(figsize=(10,10))\n",
        "sns.heatmap(corr_matrix, annot=True, cmap='coolwarm')\n",
        "plt.title('Correlation Heatmap')\n",
        "plt.show()"
      ],
      "metadata": {
        "id": "NsxEtU481YmL"
      },
      "execution_count": null,
      "outputs": []
    },
    {
      "cell_type": "markdown",
      "source": [
        "#각 특성 중 상관관계가 0.4 이상인 변수와 count 변수와의 상관관계 보기"
      ],
      "metadata": {
        "id": "HBTd3v8z6JjE"
      }
    },
    {
      "cell_type": "code",
      "source": [],
      "metadata": {
        "id": "uRQxAquf1fxC"
      },
      "execution_count": null,
      "outputs": []
    }
  ]
}