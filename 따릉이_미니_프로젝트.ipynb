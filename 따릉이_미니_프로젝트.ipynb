{
  "nbformat": 4,
  "nbformat_minor": 0,
  "metadata": {
    "colab": {
      "private_outputs": true,
      "provenance": []
    },
    "kernelspec": {
      "name": "python3",
      "display_name": "Python 3"
    },
    "language_info": {
      "name": "python"
    }
  },
  "cells": [
    {
      "cell_type": "code",
      "execution_count": null,
      "metadata": {
        "id": "y1V4DkN3g1fO"
      },
      "outputs": [],
      "source": [
        "!pip install pandas"
      ]
    },
    {
      "cell_type": "code",
      "source": [
        "import pandas as pd\n",
        "import seaborn as sns\n",
        "import matplotlib.pyplot as plt"
      ],
      "metadata": {
        "id": "cBn5XRVchSGR"
      },
      "execution_count": null,
      "outputs": []
    },
    {
      "cell_type": "code",
      "source": [
        "df = pd.read_csv('/content/drive/MyDrive/따릉이 미니 프로젝트/train_따릉이.csv')"
      ],
      "metadata": {
        "id": "5vm1AlMQhght"
      },
      "execution_count": null,
      "outputs": []
    },
    {
      "cell_type": "markdown",
      "source": [
        "# 범주형 변수가 없음을 확인"
      ],
      "metadata": {
        "id": "mK7fHzfLjokL"
      }
    },
    {
      "cell_type": "code",
      "source": [
        "df.describe()"
      ],
      "metadata": {
        "id": "8BOTpTyLhlp1"
      },
      "execution_count": null,
      "outputs": []
    },
    {
      "cell_type": "code",
      "source": [
        "df.columns = ['id', 'hour', 'temperarture','precipitation','windspeed','humidity','bisivility','ozone','pm10','pm2.5','count']"
      ],
      "metadata": {
        "id": "XPPI48AthnZn"
      },
      "execution_count": null,
      "outputs": []
    },
    {
      "cell_type": "code",
      "source": [
        "df"
      ],
      "metadata": {
        "id": "kuPaqxCMikDG"
      },
      "execution_count": null,
      "outputs": []
    },
    {
      "cell_type": "code",
      "source": [
        "df.isnull().sum() # pm 10 2.5 , ozone의 결측값을 채워줘야 겠다."
      ],
      "metadata": {
        "id": "G9YxFaN_ilse"
      },
      "execution_count": null,
      "outputs": []
    },
    {
      "cell_type": "code",
      "source": [
        "df.corr() # 시간 온도 바람속도 ozone 순으로 상관관계 count와의 상관관계가 있다."
      ],
      "metadata": {
        "id": "AKLa1-EtipbO"
      },
      "execution_count": null,
      "outputs": []
    },
    {
      "cell_type": "code",
      "source": [
        "corr_matrix = df.corr()\n",
        "plt.figure(figsize=(10,10))\n",
        "sns.heatmap(corr_matrix, annot=True, cmap='coolwarm')\n",
        "plt.title('Correlation Heatmap')\n",
        "plt.show()"
      ],
      "metadata": {
        "id": "MBu2LnwzxtEP"
      },
      "execution_count": null,
      "outputs": []
    },
    {
      "cell_type": "markdown",
      "source": [
        "# windspeed에 중앙값 채우기"
      ],
      "metadata": {
        "id": "y15jrlAZ0VfV"
      }
    },
    {
      "cell_type": "code",
      "source": [
        "df['windspeed'] = df['windspeed'].fillna(df['windspeed'].median())"
      ],
      "metadata": {
        "id": "s2ahlnm_0K8g"
      },
      "execution_count": null,
      "outputs": []
    },
    {
      "cell_type": "code",
      "source": [
        "df.info()"
      ],
      "metadata": {
        "id": "WKcT6bv50lew"
      },
      "execution_count": null,
      "outputs": []
    },
    {
      "cell_type": "markdown",
      "source": [
        "# pm2.5와 count의 상관관계"
      ],
      "metadata": {
        "id": "0c0VEd0Qt8RK"
      }
    },
    {
      "cell_type": "code",
      "source": [
        "df2 = pd.read_csv('/content/drive/MyDrive/따릉이 미니 프로젝트/train_따릉이.csv')"
      ],
      "metadata": {
        "id": "nV4t_m-auCm3"
      },
      "execution_count": null,
      "outputs": []
    },
    {
      "cell_type": "code",
      "source": [
        "df2.corr(method='pearson')"
      ],
      "metadata": {
        "id": "C1VjjoGzvO_F"
      },
      "execution_count": null,
      "outputs": []
    },
    {
      "cell_type": "code",
      "source": [],
      "metadata": {
        "id": "8U8vjjb3vP51"
      },
      "execution_count": null,
      "outputs": []
    }
  ]
}